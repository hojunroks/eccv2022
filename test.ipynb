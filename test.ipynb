{
 "cells": [
  {
   "cell_type": "code",
   "execution_count": null,
   "metadata": {},
   "outputs": [],
   "source": [
    "from src.models.cyclegan import CycleGan\n",
    "import pytorch_lightning as pl\n",
    "from src.datamodule import CelebAData\n",
    "pl.seed_everything()"
   ]
  },
  {
   "cell_type": "code",
   "execution_count": null,
   "metadata": {},
   "outputs": [],
   "source": [
    "import os\n",
    "import pandas as pd\n",
    "root = './data/celeba'\n",
    "attributes = pd.read_csv(os.path.join(root, 'list_attr_celeba.csv'))\n",
    "images_dir = os.path.join(root, 'img_align_celeba')\n"
   ]
  },
  {
   "cell_type": "code",
   "execution_count": null,
   "metadata": {},
   "outputs": [],
   "source": [
    "good_attribute_threshold = 0.3\n",
    "good_attributes = ['image_id']\n",
    "for key in attributes.keys():\n",
    "    c = attributes[attributes[key]==1]['image_id'].count()\n",
    "    if c < len(attributes)*(1-good_attribute_threshold) and c > len(attributes) * good_attribute_threshold:\n",
    "        good_attributes.append(key)\n",
    "gdf = attributes[good_attributes]"
   ]
  },
  {
   "cell_type": "code",
   "execution_count": null,
   "metadata": {},
   "outputs": [],
   "source": [
    "list(attributes.keys()).index(\"Mouth_Slightly_Open\")\n",
    "from argparse import Namespace\n",
    "print(good_attributes)\n",
    "print(list(attributes.keys()).index(\"Attractive\"))"
   ]
  },
  {
   "cell_type": "code",
   "execution_count": null,
   "metadata": {},
   "outputs": [],
   "source": [
    "args = Namespace(\n",
    "    log_every_n_steps=1,\n",
    "    gradient_clip_val=0.5,\n",
    "    learning_rate=1e-3,\n",
    "    weight_decay=1e-6,\n",
    "    precision=16,\n",
    "    data_dir = './data/celeba',\n",
    "    batch_size = 512,\n",
    "    num_workers = 1,\n",
    "    gpus=2,\n",
    "    max_epochs=10,\n",
    "    accumulate_grad_batches=4,\n",
    ")"
   ]
  },
  {
   "cell_type": "code",
   "execution_count": null,
   "metadata": {},
   "outputs": [],
   "source": [
    "from src.models.classifier import Classifier, Identity\n",
    "from src.models.cnn_for_encoded import SimpleCNN\n",
    "from torchsummary import summary\n",
    "cnn = SimpleCNN().to('cuda:0')\n",
    "target_attr = 32\n",
    "# translator = Identity()\n",
    "translator = CycleGan(args, target_attr=target_attr).load_from_checkpoint('./logs/0126/version_0/checkpoints/epoch=99-step=7999.ckpt').A2B\n",
    "classifier = Classifier(args, model=cnn, target_attr=target_attr, preEncoder=translator).to('cuda:0')"
   ]
  },
  {
   "cell_type": "code",
   "execution_count": null,
   "metadata": {},
   "outputs": [],
   "source": [
    "from pytorch_lightning.loggers import TensorBoardLogger\n",
    "logger = TensorBoardLogger(\"logs/toy\", name='')\n"
   ]
  },
  {
   "cell_type": "code",
   "execution_count": null,
   "metadata": {},
   "outputs": [],
   "source": [
    "import sys\n",
    "sys.argv = ['-f']"
   ]
  },
  {
   "cell_type": "code",
   "execution_count": null,
   "metadata": {},
   "outputs": [],
   "source": [
    "import pytorch_lightning as pl\n",
    "from src.datamodule import CelebAEncodedData\n",
    "from argparse import ArgumentParser\n",
    "parser = ArgumentParser()\n",
    "parser = pl.Trainer.add_argparse_args(parser)\n",
    "argu = vars(parser.parse_args())\n",
    "argu.update(vars(args))\n",
    "args = Namespace(**argu)\n",
    "trainer = pl.Trainer.from_argparse_args(args, logger=logger)\n",
    "dm = CelebAEncodedData(args)\n",
    "trainer.fit(classifier, datamodule=dm)"
   ]
  },
  {
   "cell_type": "code",
   "execution_count": null,
   "metadata": {},
   "outputs": [],
   "source": []
  }
 ],
 "metadata": {
  "interpreter": {
   "hash": "816d599aaaf5094f5c89431f2736cb5ec60c792e143433189ec2e302a3fd18e1"
  },
  "kernelspec": {
   "display_name": "Python 3.8.12 64-bit ('ppml': conda)",
   "language": "python",
   "name": "python3"
  },
  "language_info": {
   "codemirror_mode": {
    "name": "ipython",
    "version": 3
   },
   "file_extension": ".py",
   "mimetype": "text/x-python",
   "name": "python",
   "nbconvert_exporter": "python",
   "pygments_lexer": "ipython3",
   "version": "3.8.12"
  },
  "orig_nbformat": 4
 },
 "nbformat": 4,
 "nbformat_minor": 2
}
