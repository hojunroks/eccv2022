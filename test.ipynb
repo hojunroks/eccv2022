{
 "cells": [
  {
   "cell_type": "code",
   "execution_count": 1,
   "metadata": {},
   "outputs": [],
   "source": [
    "from src.autoencoder import AutoEncoder\n",
    "import pytorch_lightning as pl\n",
    "from src.datamodule import CelebAData"
   ]
  },
  {
   "cell_type": "code",
   "execution_count": 2,
   "metadata": {},
   "outputs": [],
   "source": [
    "import os\n",
    "import pandas as pd\n",
    "root = './data/celeba'\n",
    "attributes = pd.read_csv(os.path.join(root, 'list_attr_celeba.csv'))\n",
    "images_dir = os.path.join(root, 'img_align_celeba')\n"
   ]
  },
  {
   "cell_type": "code",
   "execution_count": 3,
   "metadata": {},
   "outputs": [],
   "source": [
    "good_attribute_threshold = 0.3\n",
    "good_attributes = ['image_id']\n",
    "for key in attributes.keys():\n",
    "    c = attributes[attributes[key]==1]['image_id'].count()\n",
    "    if c < len(attributes)*(1-good_attribute_threshold) and c > len(attributes) * good_attribute_threshold:\n",
    "        good_attributes.append(key)\n",
    "gdf = attributes[good_attributes]"
   ]
  },
  {
   "cell_type": "code",
   "execution_count": 4,
   "metadata": {},
   "outputs": [],
   "source": [
    "class Namespace:\n",
    "    def __init__(self, **kwargs):\n",
    "        self.__dict__.update(kwargs)"
   ]
  },
  {
   "cell_type": "code",
   "execution_count": 5,
   "metadata": {},
   "outputs": [
    {
     "data": {
      "text/plain": [
       "21"
      ]
     },
     "execution_count": 5,
     "metadata": {},
     "output_type": "execute_result"
    }
   ],
   "source": [
    "list(attributes.keys()).index(\"Male\")"
   ]
  },
  {
   "cell_type": "code",
   "execution_count": 6,
   "metadata": {},
   "outputs": [],
   "source": [
    "args = Namespace(optimizer='adam', learning_rate=1e-3, weight_decay=1e-6,\n",
    "    data_dir = './data/celeba',\n",
    "    batch_size = 512,\n",
    "    num_workers = 8,\n",
    "    gpus=2\n",
    ")\n",
    "ae = AutoEncoder.load_from_checkpoint('logs/autoencoder/0114/200epochs/adam/version_6/checkpoints/epoch=187-step=15039.ckpt', hparams=args)\n",
    "ae = ae.encoder"
   ]
  },
  {
   "cell_type": "code",
   "execution_count": null,
   "metadata": {},
   "outputs": [],
   "source": [
    "from torch.utils.data import Dataset, DataLoader\n",
    "from src.datamodule import CelebADataset\n",
    "from torchvision import transforms as T\n",
    "\n",
    "save_dir = \"data_encoded\"\n",
    "ae.to(\"cuda:0\")\n",
    "transform = T.Compose(\n",
    "[\n",
    "    T.ToPILImage(),\n",
    "    T.Resize((128, 128)),\n",
    "    T.ToTensor(),\n",
    "]\n",
    ")\n",
    "dataset = CelebADataset(root=\"data/celeba\", train=0, transform=transform)"
   ]
  },
  {
   "cell_type": "code",
   "execution_count": 9,
   "metadata": {},
   "outputs": [],
   "source": [
    "from datetime import datetime\n",
    "from pytorch_lightning.loggers import TensorBoardLogger\n",
    "logdir = 'logs/ppnet'\n",
    "logdir += datetime.now().strftime(\"/%m%d\")\n",
    "logdir += '/{}epochs'.format(100)\n",
    "logdir += '/{}'.format(args.optimizer)\n",
    "logger = TensorBoardLogger(logdir, name='')"
   ]
  },
  {
   "cell_type": "code",
   "execution_count": 10,
   "metadata": {},
   "outputs": [
    {
     "name": "stderr",
     "output_type": "stream",
     "text": [
      "/home/hjsong/anaconda3/envs/ppml/lib/python3.8/site-packages/pytorch_lightning/trainer/connectors/accelerator_connector.py:849: UserWarning: You requested multiple GPUs but did not specify a backend, e.g. `Trainer(strategy=\"dp\"|\"ddp\"|\"ddp2\")`. Setting `strategy=\"ddp_spawn\"` for you.\n",
      "  rank_zero_warn(\n",
      "GPU available: True, used: True\n",
      "TPU available: False, using: 0 TPU cores\n",
      "IPU available: False, using: 0 IPUs\n",
      "LOCAL_RANK: 0 - CUDA_VISIBLE_DEVICES: [0,1]\n",
      "initializing distributed: GLOBAL_RANK: 0, MEMBER: 1/2\n",
      "initializing distributed: GLOBAL_RANK: 1, MEMBER: 2/2\n",
      "----------------------------------------------------------------------------------------------------\n",
      "distributed_backend=nccl\n",
      "All distributed processes registered. Starting with 2 processes\n",
      "----------------------------------------------------------------------------------------------------\n",
      "\n"
     ]
    },
    {
     "name": "stdout",
     "output_type": "stream",
     "text": [
      "Validation sanity check:   0%|          | 0/2 [00:00<?, ?it/s]"
     ]
    },
    {
     "name": "stderr",
     "output_type": "stream",
     "text": [
      "/home/hjsong/anaconda3/envs/ppml/lib/python3.8/site-packages/torch/nn/modules/container.py:141: UserWarning: Implicit dimension choice for softmax has been deprecated. Change the call to include dim=X as an argument.\n",
      "  input = module(input)\n",
      "/home/hjsong/anaconda3/envs/ppml/lib/python3.8/site-packages/torch/nn/modules/container.py:141: UserWarning: Implicit dimension choice for softmax has been deprecated. Change the call to include dim=X as an argument.\n",
      "  input = module(input)\n"
     ]
    },
    {
     "name": "stdout",
     "output_type": "stream",
     "text": [
      "Epoch 0:   0%|          | 0/177 [00:00<?, ?it/s]                      "
     ]
    },
    {
     "name": "stderr",
     "output_type": "stream",
     "text": [
      "/home/hjsong/anaconda3/envs/ppml/lib/python3.8/site-packages/pytorch_lightning/trainer/trainer.py:685: UserWarning: Detected KeyboardInterrupt, attempting graceful shutdown...\n",
      "  rank_zero_warn(\"Detected KeyboardInterrupt, attempting graceful shutdown...\")\n",
      "Traceback (most recent call last):\n",
      "  File \"<string>\", line 1, in <module>\n",
      "Traceback (most recent call last):\n",
      "  File \"<string>\", line 1, in <module>\n",
      "  File \"/home/hjsong/anaconda3/envs/ppml/lib/python3.8/multiprocessing/spawn.py\", line 116, in spawn_main\n",
      "    exitcode = _main(fd, parent_sentinel)\n",
      "  File \"/home/hjsong/anaconda3/envs/ppml/lib/python3.8/multiprocessing/spawn.py\", line 126, in _main\n",
      "    self = reduction.pickle.load(from_parent)\n",
      "  File \"/home/hjsong/anaconda3/envs/ppml/lib/python3.8/site-packages/torch/__init__.py\", line 721, in <module>\n",
      "    import torch.utils.data\n",
      "  File \"/home/hjsong/anaconda3/envs/ppml/lib/python3.8/site-packages/torch/utils/data/__init__.py\", line 38, in <module>\n",
      "    from torch.utils.data.dataloader_experimental import DataLoader2\n",
      "  File \"/home/hjsong/anaconda3/envs/ppml/lib/python3.8/site-packages/torch/utils/data/dataloader_experimental.py\", line 11, in <module>\n",
      "    from torch.utils.data.datapipes.iter import IterableWrapper\n",
      "  File \"/home/hjsong/anaconda3/envs/ppml/lib/python3.8/site-packages/torch/utils/data/datapipes/__init__.py\", line 1, in <module>\n",
      "    from . import iter\n",
      "  File \"/home/hjsong/anaconda3/envs/ppml/lib/python3.8/site-packages/torch/utils/data/datapipes/iter/__init__.py\", line 37, in <module>\n",
      "    from torch.utils.data.datapipes.iter.selecting import (\n",
      "  File \"/home/hjsong/anaconda3/envs/ppml/lib/python3.8/site-packages/torch/utils/data/datapipes/iter/selecting.py\", line 7, in <module>\n",
      "    import pandas  # type: ignore[import]\n",
      "  File \"/home/hjsong/anaconda3/envs/ppml/lib/python3.8/site-packages/pandas/__init__.py\", line 50, in <module>\n",
      "    from pandas.core.api import (\n",
      "  File \"/home/hjsong/anaconda3/envs/ppml/lib/python3.8/site-packages/pandas/core/api.py\", line 29, in <module>\n",
      "    from pandas.core.arrays import Categorical\n",
      "  File \"/home/hjsong/anaconda3/envs/ppml/lib/python3.8/site-packages/pandas/core/arrays/__init__.py\", line 1, in <module>\n",
      "    from pandas.core.arrays.base import (\n",
      "  File \"/home/hjsong/anaconda3/envs/ppml/lib/python3.8/site-packages/pandas/core/arrays/base.py\", line 33, in <module>\n",
      "    from pandas.compat.numpy import function as nv\n",
      "  File \"<frozen importlib._bootstrap>\", line 991, in _find_and_load\n",
      "  File \"<frozen importlib._bootstrap>\", line 975, in _find_and_load_unlocked\n",
      "  File \"<frozen importlib._bootstrap>\", line 657, in _load_unlocked\n",
      "  File \"<frozen importlib._bootstrap>\", line 556, in module_from_spec\n",
      "KeyboardInterrupt\n",
      "Exception ignored in: <function _MultiProcessingDataLoaderIter.__del__ at 0x7ff35f07b160>\n",
      "Traceback (most recent call last):\n",
      "  File \"/home/hjsong/anaconda3/envs/ppml/lib/python3.8/site-packages/torch/utils/data/dataloader.py\", line 1328, in __del__\n",
      "Exception ignored in: <function _MultiProcessingDataLoaderIter.__del__ at 0x7f645e49c160>\n",
      "    self._shutdown_workers()\n",
      "  File \"/home/hjsong/anaconda3/envs/ppml/lib/python3.8/site-packages/torch/utils/data/dataloader.py\", line 1296, in _shutdown_workers\n",
      "Traceback (most recent call last):\n",
      "  File \"/home/hjsong/anaconda3/envs/ppml/lib/python3.8/site-packages/torch/utils/data/dataloader.py\", line 1328, in __del__\n",
      "    self._mark_worker_as_unavailable(worker_id, shutdown=True)\n",
      "  File \"/home/hjsong/anaconda3/envs/ppml/lib/python3.8/site-packages/torch/utils/data/dataloader.py\", line 1237, in _mark_worker_as_unavailable\n",
      "    self._shutdown_workers()\n",
      "  File \"/home/hjsong/anaconda3/envs/ppml/lib/python3.8/site-packages/torch/utils/data/dataloader.py\", line 1296, in _shutdown_workers\n",
      "    assert self._workers_status[worker_id] or (self._persistent_workers and shutdown)\n",
      "AttributeError: '_MultiProcessingDataLoaderIter' object has no attribute '_workers_status'\n",
      "    self._mark_worker_as_unavailable(worker_id, shutdown=True)\n",
      "  File \"/home/hjsong/anaconda3/envs/ppml/lib/python3.8/site-packages/torch/utils/data/dataloader.py\", line 1237, in _mark_worker_as_unavailable\n",
      "  File \"/home/hjsong/anaconda3/envs/ppml/lib/python3.8/multiprocessing/spawn.py\", line 116, in spawn_main\n",
      "    exitcode = _main(fd, parent_sentinel)\n",
      "  File \"/home/hjsong/anaconda3/envs/ppml/lib/python3.8/multiprocessing/spawn.py\", line 126, in _main\n",
      "    self = reduction.pickle.load(from_parent)\n",
      "  File \"/home/hjsong/anaconda3/envs/ppml/lib/python3.8/site-packages/torch/__init__.py\", line 721, in <module>\n",
      "    import torch.utils.data\n",
      "  File \"/home/hjsong/anaconda3/envs/ppml/lib/python3.8/site-packages/torch/utils/data/__init__.py\", line 11, in <module>\n",
      "    from torch.utils.data.dataset import (\n",
      "  File \"/home/hjsong/anaconda3/envs/ppml/lib/python3.8/site-packages/torch/utils/data/dataset.py\", line 33, in <module>\n",
      "    assert self._workers_status[worker_id] or (self._persistent_workers and shutdown)\n",
      "AttributeError: '_MultiProcessingDataLoaderIter' object has no attribute '_workers_status'\n",
      "    class DataChunk(list, Generic[T]):\n",
      "  File \"/home/hjsong/anaconda3/envs/ppml/lib/python3.8/site-packages/torch/utils/data/dataset.py\", line 42, in DataChunk\n",
      "    def __iter__(self) -> Iterator[T]:\n",
      "  File \"/home/hjsong/anaconda3/envs/ppml/lib/python3.8/typing.py\", line 258, in inner\n",
      "    return cached(*args, **kwds)\n",
      "  File \"/home/hjsong/anaconda3/envs/ppml/lib/python3.8/typing.py\", line 687, in __getitem__\n",
      "    return _subs_tvars(self, self.__parameters__, params)\n",
      "  File \"/home/hjsong/anaconda3/envs/ppml/lib/python3.8/typing.py\", line 203, in _subs_tvars\n",
      "    return tp.copy_with(tuple(new_args))\n",
      "  File \"/home/hjsong/anaconda3/envs/ppml/lib/python3.8/typing.py\", line 691, in copy_with\n",
      "    return _GenericAlias(self.__origin__, params, name=self._name, inst=self._inst)\n",
      "  File \"/home/hjsong/anaconda3/envs/ppml/lib/python3.8/typing.py\", line 661, in __init__\n",
      "    self._special = special\n",
      "  File \"/home/hjsong/anaconda3/envs/ppml/lib/python3.8/typing.py\", line 763, in __setattr__\n",
      "    if _is_dunder(attr) or attr in ('_name', '_inst', '_special'):\n",
      "  File \"/home/hjsong/anaconda3/envs/ppml/lib/python3.8/typing.py\", line 647, in _is_dunder\n",
      "    return attr.startswith('__') and attr.endswith('__')\n",
      "KeyboardInterrupt\n"
     ]
    }
   ],
   "source": [
    "trainer = pl.Trainer.from_argparse_args(args,\n",
    "    logger=logger,\n",
    "    fast_dev_run=False,\n",
    "    deterministic=True,\n",
    "    enable_model_summary=False,\n",
    "    log_every_n_steps=1,\n",
    ")\n",
    "dm = CelebAData(args)\n",
    "\n",
    "trainer.fit(classifier, datamodule=dm\n",
    ")\n",
    "\n",
    "trainer.save_checkpoint(logger.log_dir+logger.name+\"/\"+logger.name+\"celeba_test.ckpt\")"
   ]
  },
  {
   "cell_type": "code",
   "execution_count": null,
   "metadata": {},
   "outputs": [],
   "source": []
  }
 ],
 "metadata": {
  "interpreter": {
   "hash": "816d599aaaf5094f5c89431f2736cb5ec60c792e143433189ec2e302a3fd18e1"
  },
  "kernelspec": {
   "display_name": "Python 3.8.12 64-bit ('ppml': conda)",
   "language": "python",
   "name": "python3"
  },
  "language_info": {
   "codemirror_mode": {
    "name": "ipython",
    "version": 3
   },
   "file_extension": ".py",
   "mimetype": "text/x-python",
   "name": "python",
   "nbconvert_exporter": "python",
   "pygments_lexer": "ipython3",
   "version": "3.8.12"
  },
  "orig_nbformat": 4
 },
 "nbformat": 4,
 "nbformat_minor": 2
}
